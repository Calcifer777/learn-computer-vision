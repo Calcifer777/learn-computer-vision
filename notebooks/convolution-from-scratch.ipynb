{
 "cells": [
  {
   "cell_type": "code",
   "execution_count": 1,
   "id": "dff162fd-c074-460e-96a5-5a264422ff46",
   "metadata": {},
   "outputs": [],
   "source": [
    "import numpy as np"
   ]
  },
  {
   "cell_type": "markdown",
   "id": "7d7bd7bd-b466-4261-8efd-ae351eac49ca",
   "metadata": {},
   "source": [
    "## 1D convolution"
   ]
  },
  {
   "cell_type": "code",
   "execution_count": 3,
   "id": "58fa9142-12e5-466a-9d0a-13463d99b639",
   "metadata": {},
   "outputs": [
    {
     "data": {
      "text/plain": [
       "array([1, 2, 3])"
      ]
     },
     "execution_count": 3,
     "metadata": {},
     "output_type": "execute_result"
    }
   ],
   "source": [
    "arr = np.arange(3) + 1\n",
    "arr"
   ]
  },
  {
   "cell_type": "code",
   "execution_count": 68,
   "id": "b44cf857-a95e-43aa-9c62-4dc73d8b5d0c",
   "metadata": {},
   "outputs": [
    {
     "data": {
      "text/plain": [
       "array([ 0.,  3.,  5.,  7., 11.,  0.])"
      ]
     },
     "execution_count": 68,
     "metadata": {},
     "output_type": "execute_result"
    }
   ],
   "source": [
    "x = np.array([3, 5, 7, 11])\n",
    "x_padded = np.concatenate([np.zeros(1), x, np.zeros(1)])\n",
    "x_padded"
   ]
  },
  {
   "cell_type": "code",
   "execution_count": 62,
   "id": "b42759eb-3d6e-45d4-a3ab-abcb08530a2c",
   "metadata": {},
   "outputs": [
    {
     "name": "stdout",
     "output_type": "stream",
     "text": [
      "Padded:\n",
      "[1. 2. 3. 0. 0. 0. 0.]\n",
      "Tiled:\n",
      "[1. 2. 3. 0. 0. 0. 0. 1. 2. 3. 0. 0. 0. 0. 1. 2. 3. 0. 0. 0. 0. 1. 2. 3.\n",
      " 0. 0. 0. 0.]\n",
      "Trimmed:\n",
      "[1. 2. 3. 0. 0. 0. 0. 1. 2. 3. 0. 0. 0. 0. 1. 2. 3. 0. 0. 0. 0. 1. 2. 3.]\n",
      "Reshaped:\n",
      "[[1. 2. 3. 0. 0. 0.]\n",
      " [0. 1. 2. 3. 0. 0.]\n",
      " [0. 0. 1. 2. 3. 0.]\n",
      " [0. 0. 0. 1. 2. 3.]]\n"
     ]
    }
   ],
   "source": [
    "padding = 4\n",
    "padded = np.append(arr, np.zeros(padding))\n",
    "print(\"Padded:\", padded, sep='\\n')\n",
    "tiled = np.tile(padded, 4)\n",
    "print(\"Tiled:\", tiled, sep='\\n')\n",
    "trimmed = tiled[:tiled.shape[0]-padding]\n",
    "print(\"Trimmed:\", trimmed, sep='\\n')\n",
    "reshaped = np.reshape(np.expand_dims(trimmed, -1), (x.shape[0], x_padded.shape[0]))\n",
    "print(\"Reshaped:\", reshaped, sep='\\n')"
   ]
  },
  {
   "cell_type": "code",
   "execution_count": 69,
   "id": "c3ba6673-7440-4e27-bfc6-ad2ff8442a8e",
   "metadata": {},
   "outputs": [
    {
     "data": {
      "text/plain": [
       "array([21., 34., 52., 29.])"
      ]
     },
     "execution_count": 69,
     "metadata": {},
     "output_type": "execute_result"
    }
   ],
   "source": [
    "np.matmul(reshaped, x_padded)"
   ]
  },
  {
   "cell_type": "markdown",
   "id": "699b5129-7f79-4bc2-86d4-d4abf69b41f8",
   "metadata": {},
   "source": [
    "## 1D Transpose convolution"
   ]
  },
  {
   "cell_type": "code",
   "execution_count": 71,
   "id": "505c479d-5f37-49e6-9d22-160fd970c7a1",
   "metadata": {},
   "outputs": [
    {
     "data": {
      "text/plain": [
       "array([ 3., 11., 26., 40., 43., 33.])"
      ]
     },
     "execution_count": 71,
     "metadata": {},
     "output_type": "execute_result"
    }
   ],
   "source": [
    "np.matmul(reshaped.T, x)"
   ]
  },
  {
   "cell_type": "markdown",
   "id": "2d13543b-203d-4ba7-9075-33dfda7f1d60",
   "metadata": {},
   "source": [
    "## 2D Convolution"
   ]
  },
  {
   "cell_type": "code",
   "execution_count": 139,
   "id": "25b415b3-a4aa-4805-9ce4-d76d9cf86e2e",
   "metadata": {},
   "outputs": [
    {
     "name": "stdout",
     "output_type": "stream",
     "text": [
      "[[ 1  2  3]\n",
      " [ 5  7 11]\n",
      " [13 17 19]]\n"
     ]
    },
    {
     "data": {
      "text/plain": [
       "array([[ 0,  0,  0,  0,  0],\n",
       "       [ 0,  1,  2,  3,  0],\n",
       "       [ 0,  5,  7, 11,  0],\n",
       "       [ 0, 13, 17, 19,  0],\n",
       "       [ 0,  0,  0,  0,  0]])"
      ]
     },
     "execution_count": 139,
     "metadata": {},
     "output_type": "execute_result"
    }
   ],
   "source": [
    "x = np.array([1, 2, 3, 5, 7, 11, 13, 17, 19]).reshape((3, 3))\n",
    "print(x)\n",
    "x_padded = np.pad(x, (1, 1))\n",
    "x_padded"
   ]
  },
  {
   "cell_type": "code",
   "execution_count": 151,
   "id": "9ea8f6ec-b01e-4e54-b7a3-ac579b3f6896",
   "metadata": {},
   "outputs": [
    {
     "name": "stdout",
     "output_type": "stream",
     "text": [
      "Windows shape: (3, 3, 3, 3)\n",
      "First window:\n",
      "[[0 0 0]\n",
      " [0 1 2]\n",
      " [0 5 7]]\n"
     ]
    }
   ],
   "source": [
    "windows = np.lib.stride_tricks.sliding_window_view(x_padded, (3, 3))\n",
    "print(\"Windows shape:\", windows.shape)\n",
    "print(\"First window:\", windows[0, 0], sep=\"\\n\")"
   ]
  },
  {
   "cell_type": "code",
   "execution_count": 128,
   "id": "5dcd040a-1a6a-493a-b794-0731cd2ed576",
   "metadata": {},
   "outputs": [
    {
     "data": {
      "text/plain": [
       "array([[1., 1., 1.],\n",
       "       [1., 1., 1.],\n",
       "       [1., 1., 1.]])"
      ]
     },
     "execution_count": 128,
     "metadata": {},
     "output_type": "execute_result"
    }
   ],
   "source": [
    "kernel = np.ones((3, 3))\n",
    "kernel"
   ]
  },
  {
   "cell_type": "markdown",
   "id": "811be6a1-1304-4378-9865-2456a88605fe",
   "metadata": {},
   "source": [
    "Guide to `np.einsum`: https://ajcr.net/Basic-guide-to-einsum/"
   ]
  },
  {
   "cell_type": "code",
   "execution_count": 137,
   "id": "64983f48-9339-47c2-bc7f-63f14aa20113",
   "metadata": {},
   "outputs": [
    {
     "data": {
      "text/plain": [
       "array([[15., 29., 23.],\n",
       "       [45., 78., 59.],\n",
       "       [42., 72., 54.]])"
      ]
     },
     "execution_count": 137,
     "metadata": {},
     "output_type": "execute_result"
    }
   ],
   "source": [
    "np.einsum('ij, klij -> kl', kernel, windows)"
   ]
  },
  {
   "cell_type": "code",
   "execution_count": null,
   "id": "055dcf56-6d5d-497f-a3e9-299bde4012bd",
   "metadata": {},
   "outputs": [],
   "source": []
  }
 ],
 "metadata": {
  "kernelspec": {
   "display_name": "learn-computer-vision",
   "language": "python",
   "name": "learn-computer-vision"
  },
  "language_info": {
   "codemirror_mode": {
    "name": "ipython",
    "version": 3
   },
   "file_extension": ".py",
   "mimetype": "text/x-python",
   "name": "python",
   "nbconvert_exporter": "python",
   "pygments_lexer": "ipython3",
   "version": "3.8.10"
  }
 },
 "nbformat": 4,
 "nbformat_minor": 5
}
