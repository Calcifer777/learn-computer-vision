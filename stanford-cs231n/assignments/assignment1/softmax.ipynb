{
 "cells": [
  {
   "cell_type": "markdown",
   "id": "26fdca1c",
   "metadata": {
    "tags": [
     "pdf-title"
    ]
   },
   "source": [
    "# Softmax exercise\n",
    "\n",
    "*Complete and hand in this completed worksheet (including its outputs and any supporting code outside of the worksheet) with your assignment submission. For more details see the [assignments page](http://vision.stanford.edu/teaching/cs231n/assignments.html) on the course website.*\n",
    "\n",
    "This exercise is analogous to the SVM exercise. You will:\n",
    "\n",
    "- implement a fully-vectorized **loss function** for the Softmax classifier\n",
    "- implement the fully-vectorized expression for its **analytic gradient**\n",
    "- **check your implementation** with numerical gradient\n",
    "- use a validation set to **tune the learning rate and regularization** strength\n",
    "- **optimize** the loss function with **SGD**\n",
    "- **visualize** the final learned weights\n"
   ]
  },
  {
   "cell_type": "code",
   "execution_count": 1,
   "id": "1f12280f",
   "metadata": {
    "tags": [
     "pdf-ignore"
    ]
   },
   "outputs": [],
   "source": [
    "import random\n",
    "import numpy as np\n",
    "from cs231n.data_utils import load_CIFAR10\n",
    "import matplotlib.pyplot as plt\n",
    "\n",
    "%matplotlib inline\n",
    "plt.rcParams['figure.figsize'] = (10.0, 8.0) # set default size of plots\n",
    "plt.rcParams['image.interpolation'] = 'nearest'\n",
    "plt.rcParams['image.cmap'] = 'gray'\n",
    "\n",
    "# for auto-reloading extenrnal modules\n",
    "# see http://stackoverflow.com/questions/1907993/autoreload-of-modules-in-ipython\n",
    "%load_ext autoreload\n",
    "%autoreload 2"
   ]
  },
  {
   "cell_type": "code",
   "execution_count": 2,
   "id": "ab106c82",
   "metadata": {
    "tags": [
     "pdf-ignore"
    ]
   },
   "outputs": [
    {
     "name": "stdout",
     "output_type": "stream",
     "text": [
      "Train data shape:  (49000, 3073)\n",
      "Train labels shape:  (49000,)\n",
      "Validation data shape:  (1000, 3073)\n",
      "Validation labels shape:  (1000,)\n",
      "Test data shape:  (1000, 3073)\n",
      "Test labels shape:  (1000,)\n",
      "dev data shape:  (500, 3073)\n",
      "dev labels shape:  (500,)\n"
     ]
    }
   ],
   "source": [
    "def get_CIFAR10_data(num_training=49000, num_validation=1000, num_test=1000, num_dev=500):\n",
    "    \"\"\"\n",
    "    Load the CIFAR-10 dataset from disk and perform preprocessing to prepare\n",
    "    it for the linear classifier. These are the same steps as we used for the\n",
    "    SVM, but condensed to a single function.  \n",
    "    \"\"\"\n",
    "    # Load the raw CIFAR-10 data\n",
    "    cifar10_dir = 'cs231n/datasets/cifar-10-batches-py'\n",
    "    \n",
    "    # Cleaning up variables to prevent loading data multiple times (which may cause memory issue)\n",
    "    try:\n",
    "        del X_train, y_train\n",
    "        del X_test, y_test\n",
    "        print('Clear previously loaded data.')\n",
    "    except:\n",
    "        pass\n",
    "\n",
    "    X_train, y_train, X_test, y_test = load_CIFAR10(cifar10_dir)\n",
    "    \n",
    "    # subsample the data\n",
    "    mask = list(range(num_training, num_training + num_validation))\n",
    "    X_val = X_train[mask]\n",
    "    y_val = y_train[mask]\n",
    "    mask = list(range(num_training))\n",
    "    X_train = X_train[mask]\n",
    "    y_train = y_train[mask]\n",
    "    mask = list(range(num_test))\n",
    "    X_test = X_test[mask]\n",
    "    y_test = y_test[mask]\n",
    "    mask = np.random.choice(num_training, num_dev, replace=False)\n",
    "    X_dev = X_train[mask]\n",
    "    y_dev = y_train[mask]\n",
    "    \n",
    "    # Preprocessing: reshape the image data into rows\n",
    "    X_train = np.reshape(X_train, (X_train.shape[0], -1))\n",
    "    X_val = np.reshape(X_val, (X_val.shape[0], -1))\n",
    "    X_test = np.reshape(X_test, (X_test.shape[0], -1))\n",
    "    X_dev = np.reshape(X_dev, (X_dev.shape[0], -1))\n",
    "    \n",
    "    # Normalize the data: subtract the mean image\n",
    "    mean_image = np.mean(X_train, axis = 0)\n",
    "    X_train -= mean_image\n",
    "    X_val -= mean_image\n",
    "    X_test -= mean_image\n",
    "    X_dev -= mean_image\n",
    "    \n",
    "    # add bias dimension and transform into columns\n",
    "    X_train = np.hstack([X_train, np.ones((X_train.shape[0], 1))])\n",
    "    X_val = np.hstack([X_val, np.ones((X_val.shape[0], 1))])\n",
    "    X_test = np.hstack([X_test, np.ones((X_test.shape[0], 1))])\n",
    "    X_dev = np.hstack([X_dev, np.ones((X_dev.shape[0], 1))])\n",
    "    \n",
    "    return X_train, y_train, X_val, y_val, X_test, y_test, X_dev, y_dev\n",
    "\n",
    "\n",
    "# Invoke the above function to get our data.\n",
    "X_train, y_train, X_val, y_val, X_test, y_test, X_dev, y_dev = get_CIFAR10_data()\n",
    "print('Train data shape: ', X_train.shape)\n",
    "print('Train labels shape: ', y_train.shape)\n",
    "print('Validation data shape: ', X_val.shape)\n",
    "print('Validation labels shape: ', y_val.shape)\n",
    "print('Test data shape: ', X_test.shape)\n",
    "print('Test labels shape: ', y_test.shape)\n",
    "print('dev data shape: ', X_dev.shape)\n",
    "print('dev labels shape: ', y_dev.shape)"
   ]
  },
  {
   "cell_type": "markdown",
   "id": "4721c3cb",
   "metadata": {},
   "source": [
    "## Softmax Classifier\n",
    "\n",
    "Your code for this section will all be written inside `cs231n/classifiers/softmax.py`.\n"
   ]
  },
  {
   "cell_type": "code",
   "execution_count": 23,
   "id": "15d24e55-3a2b-4872-b4c6-a2887af11dbf",
   "metadata": {},
   "outputs": [
    {
     "data": {
      "text/plain": [
       "array([0.08198215, 0.07059864, 0.0794054 , 0.08696047, 0.11370196,\n",
       "       0.12898229, 0.10070393, 0.09173774, 0.11025731, 0.13567011])"
      ]
     },
     "execution_count": 23,
     "metadata": {},
     "output_type": "execute_result"
    }
   ],
   "source": [
    "i = 0\n",
    "\n",
    "logits = np.matmul(X_dev[i], W)\n",
    "logits = logits - np.max(scores)\n",
    "\n",
    "target = np.zeros(W.shape[1])\n",
    "target[y_dev[i]] = 1\n",
    "\n",
    "probs = np.exp(logits[) / np.sum(np.exp(logits))\n",
    "probs\n",
    "\n",
    "loss"
   ]
  },
  {
   "cell_type": "code",
   "execution_count": 55,
   "id": "d42765cd",
   "metadata": {
    "tags": []
   },
   "outputs": [
    {
     "name": "stdout",
     "output_type": "stream",
     "text": [
      "loss: 2.308768\n",
      "sanity check: 2.302585\n"
     ]
    }
   ],
   "source": [
    "# First implement the naive softmax loss function with nested loops.\n",
    "# Open the file cs231n/classifiers/softmax.py and implement the\n",
    "# softmax_loss_naive function.\n",
    "\n",
    "from cs231n.classifiers.softmax import softmax_loss_naive\n",
    "import time\n",
    "\n",
    "# Generate a random softmax weight matrix and use it to compute the loss.\n",
    "W = np.random.randn(3073, 10) * 0.0001\n",
    "loss, grad = softmax_loss_naive(W, X_dev, y_dev, 0.0)\n",
    "\n",
    "# As a rough sanity check, our loss should be something close to -log(0.1).\n",
    "print('loss: %f' % loss)\n",
    "print('sanity check: %f' % (-np.log(0.1)))"
   ]
  },
  {
   "cell_type": "markdown",
   "id": "6f88764e",
   "metadata": {
    "tags": [
     "pdf-inline"
    ]
   },
   "source": [
    "**Inline Question 1**\n",
    "\n",
    "Why do we expect our loss to be close to -log(0.1)? Explain briefly.**\n",
    "\n",
    "$\\color{blue}{\\textit Your Answer:}$ *Fill this in* \n",
    "\n"
   ]
  },
  {
   "cell_type": "code",
   "execution_count": 63,
   "id": "4c2626ef",
   "metadata": {},
   "outputs": [
    {
     "name": "stdout",
     "output_type": "stream",
     "text": [
      "numerical: 2.085091 analytic: 2.085091, relative error: 3.681137e-08\n",
      "numerical: 3.420950 analytic: 3.420950, relative error: 8.113895e-09\n",
      "numerical: -2.141654 analytic: -2.141654, relative error: 1.457799e-08\n",
      "numerical: -0.210194 analytic: -0.210194, relative error: 7.406190e-08\n",
      "numerical: -0.855277 analytic: -0.855277, relative error: 1.701795e-08\n",
      "numerical: 1.342237 analytic: 1.342237, relative error: 7.180166e-09\n",
      "numerical: 1.139746 analytic: 1.139746, relative error: 2.192221e-08\n",
      "numerical: -1.573037 analytic: -1.573037, relative error: 5.224494e-09\n",
      "numerical: 0.910840 analytic: 0.910840, relative error: 2.987822e-08\n",
      "numerical: 2.215096 analytic: 2.215096, relative error: 7.542066e-09\n",
      "numerical: 2.148096 analytic: 2.148096, relative error: 2.706117e-08\n",
      "numerical: -2.401784 analytic: -2.401784, relative error: 1.795712e-09\n",
      "numerical: 3.174170 analytic: 3.174170, relative error: 1.883410e-09\n",
      "numerical: 2.813807 analytic: 2.813807, relative error: 1.934255e-08\n",
      "numerical: -0.577046 analytic: -0.577046, relative error: 8.076833e-09\n",
      "numerical: -3.539150 analytic: -3.539150, relative error: 1.816551e-08\n",
      "numerical: 1.250827 analytic: 1.250827, relative error: 3.814064e-08\n",
      "numerical: 1.208423 analytic: 1.208423, relative error: 2.525341e-08\n",
      "numerical: 0.494175 analytic: 0.494175, relative error: 4.074317e-08\n",
      "numerical: -0.718021 analytic: -0.718021, relative error: 1.155440e-08\n"
     ]
    }
   ],
   "source": [
    "# Complete the implementation of softmax_loss_naive and implement a (naive)\n",
    "# version of the gradient that uses nested loops.\n",
    "loss, grad = softmax_loss_naive(W, X_dev, y_dev, 0.0)\n",
    "\n",
    "# As we did for the SVM, use numeric gradient checking as a debugging tool.\n",
    "# The numeric gradient should be close to the analytic gradient.\n",
    "from cs231n.gradient_check import grad_check_sparse\n",
    "f = lambda w: softmax_loss_naive(w, X_dev, y_dev, 0.0)[0]\n",
    "grad_numerical = grad_check_sparse(f, W, grad, 10)\n",
    "\n",
    "# similar to SVM case, do another gradient check with regularization\n",
    "loss, grad = softmax_loss_naive(W, X_dev, y_dev, 5e1)\n",
    "f = lambda w: softmax_loss_naive(w, X_dev, y_dev, 5e1)[0]\n",
    "grad_numerical = grad_check_sparse(f, W, grad, 10)"
   ]
  },
  {
   "cell_type": "code",
   "execution_count": 65,
   "id": "434e757f",
   "metadata": {},
   "outputs": [
    {
     "name": "stdout",
     "output_type": "stream",
     "text": [
      "naive loss: 2.308768e+00 computed in 0.124685s\n",
      "vectorized loss: 2.308768e+00 computed in 0.007813s\n",
      "Loss difference: 0.000000\n",
      "Gradient difference: 0.000000\n"
     ]
    }
   ],
   "source": [
    "# Now that we have a naive implementation of the softmax loss function and its gradient,\n",
    "# implement a vectorized version in softmax_loss_vectorized.\n",
    "# The two versions should compute the same results, but the vectorized version should be\n",
    "# much faster.\n",
    "tic = time.time()\n",
    "loss_naive, grad_naive = softmax_loss_naive(W, X_dev, y_dev, 0.000005)\n",
    "toc = time.time()\n",
    "print('naive loss: %e computed in %fs' % (loss_naive, toc - tic))\n",
    "\n",
    "from cs231n.classifiers.softmax import softmax_loss_vectorized\n",
    "tic = time.time()\n",
    "loss_vectorized, grad_vectorized = softmax_loss_vectorized(W, X_dev, y_dev, 0.000005)\n",
    "toc = time.time()\n",
    "print('vectorized loss: %e computed in %fs' % (loss_vectorized, toc - tic))\n",
    "\n",
    "# As we did for the SVM, we use the Frobenius norm to compare the two versions\n",
    "# of the gradient.\n",
    "grad_difference = np.linalg.norm(grad_naive - grad_vectorized, ord='fro')\n",
    "print('Loss difference: %f' % np.abs(loss_naive - loss_vectorized))\n",
    "print('Gradient difference: %f' % grad_difference)"
   ]
  },
  {
   "cell_type": "code",
   "execution_count": 66,
   "id": "2e5e374d",
   "metadata": {
    "tags": [
     "code"
    ],
    "test": "tuning"
   },
   "outputs": [
    {
     "name": "stdout",
     "output_type": "stream",
     "text": [
      "Evaluating: lr: 1e-07, rg: 20000.0\n",
      "Evaluating: lr: 1e-07, rg: 25000.0\n",
      "Evaluating: lr: 1e-07, rg: 30000.0\n",
      "Evaluating: lr: 1e-07, rg: 35000.0\n",
      "Evaluating: lr: 1e-07, rg: 40000.0\n",
      "Evaluating: lr: 1e-07, rg: 45000.0\n",
      "Evaluating: lr: 1e-07, rg: 50000.0\n",
      "Evaluating: lr: 2e-07, rg: 20000.0\n",
      "Evaluating: lr: 2e-07, rg: 25000.0\n",
      "Evaluating: lr: 2e-07, rg: 30000.0\n",
      "Evaluating: lr: 2e-07, rg: 35000.0\n",
      "Evaluating: lr: 2e-07, rg: 40000.0\n",
      "Evaluating: lr: 2e-07, rg: 45000.0\n",
      "Evaluating: lr: 2e-07, rg: 50000.0\n",
      "Evaluating: lr: 3e-07, rg: 20000.0\n",
      "Evaluating: lr: 3e-07, rg: 25000.0\n",
      "Evaluating: lr: 3e-07, rg: 30000.0\n",
      "Evaluating: lr: 3e-07, rg: 35000.0\n",
      "Evaluating: lr: 3e-07, rg: 40000.0\n",
      "Evaluating: lr: 3e-07, rg: 45000.0\n",
      "Evaluating: lr: 3e-07, rg: 50000.0\n",
      "Evaluating: lr: 4e-07, rg: 20000.0\n",
      "Evaluating: lr: 4e-07, rg: 25000.0\n",
      "Evaluating: lr: 4e-07, rg: 30000.0\n",
      "Evaluating: lr: 4e-07, rg: 35000.0\n",
      "Evaluating: lr: 4e-07, rg: 40000.0\n",
      "Evaluating: lr: 4e-07, rg: 45000.0\n",
      "Evaluating: lr: 4e-07, rg: 50000.0\n",
      "Evaluating: lr: 5e-07, rg: 20000.0\n",
      "Evaluating: lr: 5e-07, rg: 25000.0\n",
      "Evaluating: lr: 5e-07, rg: 30000.0\n",
      "Evaluating: lr: 5e-07, rg: 35000.0\n",
      "Evaluating: lr: 5e-07, rg: 40000.0\n",
      "Evaluating: lr: 5e-07, rg: 45000.0\n",
      "Evaluating: lr: 5e-07, rg: 50000.0\n",
      "lr 1.000000e-07 reg 2.000000e+04 train accuracy: 0.339735 val accuracy: 0.356000\n",
      "lr 1.000000e-07 reg 2.500000e+04 train accuracy: 0.332163 val accuracy: 0.341000\n",
      "lr 1.000000e-07 reg 3.000000e+04 train accuracy: 0.325776 val accuracy: 0.339000\n",
      "lr 1.000000e-07 reg 3.500000e+04 train accuracy: 0.320327 val accuracy: 0.342000\n",
      "lr 1.000000e-07 reg 4.000000e+04 train accuracy: 0.313857 val accuracy: 0.323000\n",
      "lr 1.000000e-07 reg 4.500000e+04 train accuracy: 0.310816 val accuracy: 0.321000\n",
      "lr 1.000000e-07 reg 5.000000e+04 train accuracy: 0.301673 val accuracy: 0.321000\n",
      "lr 2.000000e-07 reg 2.000000e+04 train accuracy: 0.340531 val accuracy: 0.353000\n",
      "lr 2.000000e-07 reg 2.500000e+04 train accuracy: 0.331592 val accuracy: 0.348000\n",
      "lr 2.000000e-07 reg 3.000000e+04 train accuracy: 0.324204 val accuracy: 0.339000\n",
      "lr 2.000000e-07 reg 3.500000e+04 train accuracy: 0.324776 val accuracy: 0.346000\n",
      "lr 2.000000e-07 reg 4.000000e+04 train accuracy: 0.303531 val accuracy: 0.320000\n",
      "lr 2.000000e-07 reg 4.500000e+04 train accuracy: 0.306061 val accuracy: 0.312000\n",
      "lr 2.000000e-07 reg 5.000000e+04 train accuracy: 0.302184 val accuracy: 0.313000\n",
      "lr 3.000000e-07 reg 2.000000e+04 train accuracy: 0.329898 val accuracy: 0.340000\n",
      "lr 3.000000e-07 reg 2.500000e+04 train accuracy: 0.327959 val accuracy: 0.338000\n",
      "lr 3.000000e-07 reg 3.000000e+04 train accuracy: 0.321224 val accuracy: 0.343000\n",
      "lr 3.000000e-07 reg 3.500000e+04 train accuracy: 0.314204 val accuracy: 0.330000\n",
      "lr 3.000000e-07 reg 4.000000e+04 train accuracy: 0.306286 val accuracy: 0.333000\n",
      "lr 3.000000e-07 reg 4.500000e+04 train accuracy: 0.312653 val accuracy: 0.328000\n",
      "lr 3.000000e-07 reg 5.000000e+04 train accuracy: 0.307959 val accuracy: 0.322000\n",
      "lr 4.000000e-07 reg 2.000000e+04 train accuracy: 0.332735 val accuracy: 0.348000\n",
      "lr 4.000000e-07 reg 2.500000e+04 train accuracy: 0.321408 val accuracy: 0.339000\n",
      "lr 4.000000e-07 reg 3.000000e+04 train accuracy: 0.323041 val accuracy: 0.337000\n",
      "lr 4.000000e-07 reg 3.500000e+04 train accuracy: 0.315102 val accuracy: 0.335000\n",
      "lr 4.000000e-07 reg 4.000000e+04 train accuracy: 0.300816 val accuracy: 0.322000\n",
      "lr 4.000000e-07 reg 4.500000e+04 train accuracy: 0.312816 val accuracy: 0.320000\n",
      "lr 4.000000e-07 reg 5.000000e+04 train accuracy: 0.299551 val accuracy: 0.312000\n",
      "lr 5.000000e-07 reg 2.000000e+04 train accuracy: 0.341143 val accuracy: 0.359000\n",
      "lr 5.000000e-07 reg 2.500000e+04 train accuracy: 0.328163 val accuracy: 0.337000\n",
      "lr 5.000000e-07 reg 3.000000e+04 train accuracy: 0.318347 val accuracy: 0.321000\n",
      "lr 5.000000e-07 reg 3.500000e+04 train accuracy: 0.318796 val accuracy: 0.321000\n",
      "lr 5.000000e-07 reg 4.000000e+04 train accuracy: 0.320082 val accuracy: 0.336000\n",
      "lr 5.000000e-07 reg 4.500000e+04 train accuracy: 0.304592 val accuracy: 0.314000\n",
      "lr 5.000000e-07 reg 5.000000e+04 train accuracy: 0.312551 val accuracy: 0.321000\n",
      "best validation accuracy achieved during cross-validation: 0.359000\n"
     ]
    }
   ],
   "source": [
    "# Use the validation set to tune hyperparameters (regularization strength and\n",
    "# learning rate). You should experiment with different ranges for the learning\n",
    "# rates and regularization strengths; if you are careful you should be able to\n",
    "# get a classification accuracy of over 0.35 on the validation set.\n",
    "\n",
    "from cs231n.classifiers import Softmax\n",
    "results = {}\n",
    "best_val = -1\n",
    "best_softmax = None\n",
    "\n",
    "################################################################################\n",
    "# TODO:                                                                        #\n",
    "# Use the validation set to set the learning rate and regularization strength. #\n",
    "# This should be identical to the validation that you did for the SVM; save    #\n",
    "# the best trained softmax classifer in best_softmax.                          #\n",
    "################################################################################\n",
    "\n",
    "# Provided as a reference. You may or may not want to change these hyperparameters\n",
    "learning_rates = [1e-7, 2e-7, 3e-7, 4e-7, 5e-7]\n",
    "regularization_strengths = [2e4, 2.5e4, 3e4, 3.5e4, 4e4, 4.5e4, 5e4, ]\n",
    "\n",
    "# *****START OF YOUR CODE (DO NOT DELETE/MODIFY THIS LINE)*****\n",
    "\n",
    "grid_search = [ (lr,rg) for lr in learning_rates for rg in regularization_strengths ]\n",
    "\n",
    "for lr, rg in grid_search:\n",
    "    print(\"Evaluating: lr: {lr}, rg: {rg}\".format(lr=lr, rg=rg))\n",
    "    # Create a new SVM instance\n",
    "    sm = Softmax()\n",
    "    # Train the model with current parameters\n",
    "    train_loss = sm.train(X_train, y_train, learning_rate=lr, reg=rg,\n",
    "                      num_iters=1500, verbose=False)\n",
    "    # Predict values for training set\n",
    "    y_train_pred = sm.predict(X_train)\n",
    "    # Calculate accuracy\n",
    "    train_accuracy = np.mean(y_train_pred == y_train)\n",
    "    # Predict values for validation set\n",
    "    y_val_pred = sm.predict(X_val)\n",
    "    # Calculate accuracy\n",
    "    val_accuracy = np.mean(y_val_pred == y_val)\n",
    "    # Save results\n",
    "    results[(lr,rg)] = (train_accuracy, val_accuracy)\n",
    "    if best_val < val_accuracy:\n",
    "        best_val = val_accuracy\n",
    "        best_svm = sm\n",
    "\n",
    "\n",
    "# *****END OF YOUR CODE (DO NOT DELETE/MODIFY THIS LINE)*****\n",
    "    \n",
    "# Print out results.\n",
    "for lr, reg in sorted(results):\n",
    "    train_accuracy, val_accuracy = results[(lr, reg)]\n",
    "    print('lr %e reg %e train accuracy: %f val accuracy: %f' % (\n",
    "                lr, reg, train_accuracy, val_accuracy))\n",
    "    \n",
    "print('best validation accuracy achieved during cross-validation: %f' % best_val)"
   ]
  },
  {
   "cell_type": "code",
   "execution_count": 67,
   "id": "deb37cc6",
   "metadata": {
    "test": "test"
   },
   "outputs": [
    {
     "ename": "AttributeError",
     "evalue": "'NoneType' object has no attribute 'predict'",
     "output_type": "error",
     "traceback": [
      "\u001b[0;31m---------------------------------------------------------------------------\u001b[0m",
      "\u001b[0;31mAttributeError\u001b[0m                            Traceback (most recent call last)",
      "Input \u001b[0;32mIn [67]\u001b[0m, in \u001b[0;36m<cell line: 3>\u001b[0;34m()\u001b[0m\n\u001b[1;32m      1\u001b[0m \u001b[38;5;66;03m# evaluate on test set\u001b[39;00m\n\u001b[1;32m      2\u001b[0m \u001b[38;5;66;03m# Evaluate the best softmax on test set\u001b[39;00m\n\u001b[0;32m----> 3\u001b[0m y_test_pred \u001b[38;5;241m=\u001b[39m \u001b[43mbest_softmax\u001b[49m\u001b[38;5;241;43m.\u001b[39;49m\u001b[43mpredict\u001b[49m(X_test)\n\u001b[1;32m      4\u001b[0m test_accuracy \u001b[38;5;241m=\u001b[39m np\u001b[38;5;241m.\u001b[39mmean(y_test \u001b[38;5;241m==\u001b[39m y_test_pred)\n\u001b[1;32m      5\u001b[0m \u001b[38;5;28mprint\u001b[39m(\u001b[38;5;124m'\u001b[39m\u001b[38;5;124msoftmax on raw pixels final test set accuracy: \u001b[39m\u001b[38;5;132;01m%f\u001b[39;00m\u001b[38;5;124m'\u001b[39m \u001b[38;5;241m%\u001b[39m (test_accuracy, ))\n",
      "\u001b[0;31mAttributeError\u001b[0m: 'NoneType' object has no attribute 'predict'"
     ]
    }
   ],
   "source": [
    "# evaluate on test set\n",
    "# Evaluate the best softmax on test set\n",
    "y_test_pred = best_softmax.predict(X_test)\n",
    "test_accuracy = np.mean(y_test == y_test_pred)\n",
    "print('softmax on raw pixels final test set accuracy: %f' % (test_accuracy, ))"
   ]
  },
  {
   "cell_type": "markdown",
   "id": "df501314",
   "metadata": {
    "tags": [
     "pdf-inline"
    ]
   },
   "source": [
    "**Inline Question 2** - *True or False*\n",
    "\n",
    "Suppose the overall training loss is defined as the sum of the per-datapoint loss over all training examples. It is possible to add a new datapoint to a training set that would leave the SVM loss unchanged, but this is not the case with the Softmax classifier loss.\n",
    "\n",
    "$\\color{blue}{\\textit Your Answer:}$ True\n",
    "\n",
    "\n",
    "$\\color{blue}{\\textit Your Explanation:}$ The softmax loss is always greater than 0. New training samples will increase the overall trainig loss\n",
    "\n"
   ]
  },
  {
   "cell_type": "code",
   "execution_count": null,
   "id": "ade33adc",
   "metadata": {},
   "outputs": [],
   "source": [
    "# Visualize the learned weights for each class\n",
    "w = best_softmax.W[:-1,:] # strip out the bias\n",
    "w = w.reshape(32, 32, 3, 10)\n",
    "\n",
    "w_min, w_max = np.min(w), np.max(w)\n",
    "\n",
    "classes = ['plane', 'car', 'bird', 'cat', 'deer', 'dog', 'frog', 'horse', 'ship', 'truck']\n",
    "for i in range(10):\n",
    "    plt.subplot(2, 5, i + 1)\n",
    "    \n",
    "    # Rescale the weights to be between 0 and 255\n",
    "    wimg = 255.0 * (w[:, :, :, i].squeeze() - w_min) / (w_max - w_min)\n",
    "    plt.imshow(wimg.astype('uint8'))\n",
    "    plt.axis('off')\n",
    "    plt.title(classes[i])"
   ]
  },
  {
   "cell_type": "code",
   "execution_count": null,
   "id": "4d5d17f8",
   "metadata": {},
   "outputs": [],
   "source": []
  }
 ],
 "metadata": {
  "kernelspec": {
   "display_name": "learn-computer-vision",
   "language": "python",
   "name": "learn-computer-vision"
  },
  "language_info": {
   "codemirror_mode": {
    "name": "ipython",
    "version": 3
   },
   "file_extension": ".py",
   "mimetype": "text/x-python",
   "name": "python",
   "nbconvert_exporter": "python",
   "pygments_lexer": "ipython3",
   "version": "3.8.10"
  }
 },
 "nbformat": 4,
 "nbformat_minor": 5
}
